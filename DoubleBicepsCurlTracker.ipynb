{
 "cells": [
  {
   "cell_type": "markdown",
   "id": "fb8b919c-37dc-46f0-b6ba-867464ceffe4",
   "metadata": {},
   "source": [
    "## 0. Install and Import Dependencies"
   ]
  },
  {
   "cell_type": "code",
   "execution_count": null,
   "id": "fbe220b1-a90a-436e-a588-a3ae1ea68edc",
   "metadata": {},
   "outputs": [],
   "source": [
    "!pip install mediapipe opencv-python"
   ]
  },
  {
   "cell_type": "code",
   "execution_count": 1,
   "id": "c5d12e77-3f9c-4754-b9f0-5440787e44e2",
   "metadata": {},
   "outputs": [],
   "source": [
    "import cv2\n",
    "import mediapipe as mp\n",
    "import numpy as np\n",
    "mp_drawing = mp.solutions.drawing_utils\n",
    "mp_pose = mp.solutions.pose"
   ]
  },
  {
   "cell_type": "code",
   "execution_count": null,
   "id": "20d9695e-8e8c-4313-9b9a-5ee210506bcc",
   "metadata": {},
   "outputs": [],
   "source": [
    "cap = cv2.VideoCapture(1)\n",
    "while cap.isOpened():\n",
    "    ret, frame = cap.read()\n",
    "    cv2.imshow('Mediapipe Feed', frame)\n",
    "\n",
    "    if cv2.waitKey(10) & 0xFF == ord('q'):\n",
    "        break\n",
    "\n",
    "cap.realease()\n",
    "cv2.destroyAllWindows()"
   ]
  },
  {
   "cell_type": "markdown",
   "id": "a8c609f1-066d-42a3-b447-783b9546e97b",
   "metadata": {},
   "source": [
    "## 1. Make Detections"
   ]
  },
  {
   "cell_type": "code",
   "execution_count": null,
   "id": "9e50dba6-d7c3-4184-b411-a7eb57f329b4",
   "metadata": {},
   "outputs": [],
   "source": [
    "cap = cv2.VideoCapture(1)\n",
    "\n",
    "with mp_pose.Pose(min_detection_confidence =0.5, min_tracking_confidence=0.5) as pose:\n",
    "    while cap.isOpened():\n",
    "        ret, frame = cap.read()\n",
    "\n",
    "        # Recolor Image to RGB\n",
    "        image = cv2.cvtColor(frame, cv2.COLOR_BGR2RGB)\n",
    "        image.flags.writeable = False\n",
    "\n",
    "        # Make detection\n",
    "        results = pose.process(image)\n",
    "\n",
    "        #Recolor back to BGR\n",
    "        image.flags.writeable = True\n",
    "        image = cv2.cvtColor(image, cv2.COLOR_RGB2BGR)\n",
    "        \n",
    "\n",
    "        # Render detections\n",
    "        mp_drawing.draw_landmarks(image, results.pose_landmarks, mp_pose.POSE_CONNECTIONS,\n",
    "                                 mp_drawing.DrawingSpec(color=(245,117,66), thickness=2, circle_radius=2),\n",
    "                                 mp_drawing.DrawingSpec(color=(25,66,230), thickness=2, circle_radius=2))\n",
    "        cv2.imshow('Mediapipe Feed', image)\n",
    "        \n",
    "        if cv2.waitKey(10) & 0xFF == ord('q'):\n",
    "            break\n",
    "    \n",
    "    cap.release()\n",
    "    cv2.destroyAllWindows()"
   ]
  },
  {
   "cell_type": "code",
   "execution_count": null,
   "id": "bfb6fd02-a7ce-4bf5-926d-611887a5afd7",
   "metadata": {},
   "outputs": [],
   "source": [
    "mp_drawing.DrawingSpec??"
   ]
  },
  {
   "cell_type": "markdown",
   "id": "5f6c769f-121b-4475-a16d-fd3027bd1fd3",
   "metadata": {},
   "source": [
    "## 2. Drawing Joints"
   ]
  },
  {
   "cell_type": "code",
   "execution_count": null,
   "id": "6dec8e8b-5e32-46df-8944-8d70e7d2a8cb",
   "metadata": {},
   "outputs": [],
   "source": [
    "cap = cv2.VideoCapture(1)\n",
    "\n",
    "with mp_pose.Pose(min_detection_confidence =0.5, min_tracking_confidence=0.5) as pose:\n",
    "    while cap.isOpened():\n",
    "        ret, frame = cap.read()\n",
    "\n",
    "        # Recolor Image to RGB\n",
    "        image = cv2.cvtColor(frame, cv2.COLOR_BGR2RGB)\n",
    "        image.flags.writeable = False\n",
    "\n",
    "        # Make detection\n",
    "        results = pose.process(image)\n",
    "\n",
    "        #Recolor back to BGR\n",
    "        image.flags.writeable = True\n",
    "        image = cv2.cvtColor(image, cv2.COLOR_RGB2BGR)\n",
    "        \n",
    "        #Extract landmarks\n",
    "        try:\n",
    "            landmarks = results.pose_landmarks.landmark\n",
    "            print(landmarks)\n",
    "        except:\n",
    "            pass\n",
    "            \n",
    "        # Render detections\n",
    "        mp_drawing.draw_landmarks(image, results.pose_landmarks, mp_pose.POSE_CONNECTIONS,\n",
    "                                 mp_drawing.DrawingSpec(color=(245,117,66), thickness=2, circle_radius=2),\n",
    "                                 mp_drawing.DrawingSpec(color=(25,66,230), thickness=2, circle_radius=2))\n",
    "        cv2.imshow('Mediapipe Feed', image)\n",
    "        \n",
    "        if cv2.waitKey(10) & 0xFF == ord('q'):\n",
    "            break\n",
    "    \n",
    "    cap.realease()\n",
    "    cv2.destroyAllWindows()"
   ]
  },
  {
   "cell_type": "code",
   "execution_count": null,
   "id": "59d804c2-85eb-47ec-aa3c-6b96826da9ef",
   "metadata": {},
   "outputs": [],
   "source": [
    "mp_pose.PoseLandmark??"
   ]
  },
  {
   "cell_type": "code",
   "execution_count": null,
   "id": "5eb88cd8-bc42-4ee3-9253-20a834f8b302",
   "metadata": {},
   "outputs": [],
   "source": [
    "for lndmrk in mp_pose.PoseLandmark:\n",
    "    print(lndmrk)"
   ]
  },
  {
   "cell_type": "code",
   "execution_count": 7,
   "id": "9335e850-70ad-421c-87a9-56a800adc251",
   "metadata": {},
   "outputs": [
    {
     "data": {
      "text/plain": [
       "x: 0.63968724\n",
       "y: 0.830233097\n",
       "z: -0.104631767\n",
       "visibility: 0.999134"
      ]
     },
     "execution_count": 7,
     "metadata": {},
     "output_type": "execute_result"
    }
   ],
   "source": [
    "landmarks[mp_pose.PoseLandmark.LEFT_SHOULDER.value]"
   ]
  },
  {
   "cell_type": "code",
   "execution_count": 31,
   "id": "1ba9e858-e04d-496e-b501-af75e321c46b",
   "metadata": {},
   "outputs": [
    {
     "data": {
      "text/plain": [
       "x: 0.885749102\n",
       "y: 1.21589589\n",
       "z: -0.186213404\n",
       "visibility: 0.141089559"
      ]
     },
     "execution_count": 31,
     "metadata": {},
     "output_type": "execute_result"
    }
   ],
   "source": [
    "landmarks[mp_pose.PoseLandmark.LEFT_ELBOW.value]"
   ]
  },
  {
   "cell_type": "code",
   "execution_count": 36,
   "id": "024bdb8f-3d67-4cbb-9a0d-cefd3b2e084b",
   "metadata": {},
   "outputs": [
    {
     "data": {
      "text/plain": [
       "0.9088221788406372"
      ]
     },
     "execution_count": 36,
     "metadata": {},
     "output_type": "execute_result"
    }
   ],
   "source": [
    "landmarks[mp_pose.PoseLandmark.LEFT_WRIST.value].x"
   ]
  },
  {
   "cell_type": "markdown",
   "id": "78c7bd10-74df-4202-9643-03960aac943c",
   "metadata": {},
   "source": [
    "## 3. Calculate Angles"
   ]
  },
  {
   "cell_type": "code",
   "execution_count": 8,
   "id": "ceefcb73-eda7-44c1-8d6c-cc682a9c71e5",
   "metadata": {},
   "outputs": [],
   "source": [
    "def calculate_angle(a,b,c):\n",
    "    a = np.array(a)\n",
    "    b = np.array(b)\n",
    "    c = np.array(c)\n",
    "\n",
    "    radians = np.arctan2(c[1]-b[1], c[0]-b[0]) - np.arctan2(a[1]-b[1], a[0]-b[0])\n",
    "    angle = np.abs(radians*180.0/np.pi)\n",
    "\n",
    "    if(angle>180):\n",
    "        angle = 360-angle\n",
    "\n",
    "    return angle"
   ]
  },
  {
   "cell_type": "markdown",
   "id": "9f715717-f61f-4db6-ad47-e79a7389b9ce",
   "metadata": {},
   "source": [
    "### 3.1. Testing Calculate Angles"
   ]
  },
  {
   "cell_type": "code",
   "execution_count": 9,
   "id": "b2191d5a-e31a-40bf-974c-084cb0a51dd2",
   "metadata": {},
   "outputs": [],
   "source": [
    "l_shoulder = [landmarks[mp_pose.PoseLandmark.LEFT_SHOULDER.value].x, landmarks[mp_pose.PoseLandmark.LEFT_SHOULDER.value].y]\n",
    "l_elbow = [landmarks[mp_pose.PoseLandmark.LEFT_ELBOW.value].x, landmarks[mp_pose.PoseLandmark.LEFT_ELBOW.value].y]\n",
    "l_wrist = [landmarks[mp_pose.PoseLandmark.LEFT_WRIST.value].x, landmarks[mp_pose.PoseLandmark.LEFT_WRIST].y]\n",
    "\n",
    "r_shoulder = [landmarks[mp_pose.PoseLandmark.RIGHT_SHOULDER.value].x, landmarks[mp_pose.PoseLandmark.RIGHT_SHOULDER.value].y]\n",
    "r_elbow = [landmarks[mp_pose.PoseLandmark.RIGHT_ELBOW.value].x, landmarks[mp_pose.PoseLandmark.RIGHT_ELBOW.value].y]\n",
    "r_wrist = [landmarks[mp_pose.PoseLandmark.RIGHT_WRIST.value].x, landmarks[mp_pose.PoseLandmark.RIGHT_WRIST].y]"
   ]
  },
  {
   "cell_type": "code",
   "execution_count": 20,
   "id": "a0c64656-4c47-4972-91d4-e48c85add8c8",
   "metadata": {},
   "outputs": [
    {
     "data": {
      "text/plain": [
       "171.49218615188238"
      ]
     },
     "execution_count": 20,
     "metadata": {},
     "output_type": "execute_result"
    }
   ],
   "source": [
    "calculate_angle(shoulder, elbow, wrist)"
   ]
  },
  {
   "cell_type": "code",
   "execution_count": 10,
   "id": "56cad054-afe0-42ec-aa8a-67abec6f0fb0",
   "metadata": {},
   "outputs": [
    {
     "name": "stderr",
     "output_type": "stream",
     "text": [
      "I0000 00:00:1752457462.451216 1356234 gl_context.cc:369] GL version: 2.1 (2.1 Metal - 89.4), renderer: Apple M4 Max\n",
      "W0000 00:00:1752457462.501958 1359284 inference_feedback_manager.cc:114] Feedback manager requires a model with a single signature inference. Disabling support for feedback tensors.\n",
      "W0000 00:00:1752457462.509846 1359290 inference_feedback_manager.cc:114] Feedback manager requires a model with a single signature inference. Disabling support for feedback tensors.\n"
     ]
    }
   ],
   "source": [
    "cap = cv2.VideoCapture(1)\n",
    "\n",
    "with mp_pose.Pose(min_detection_confidence =0.5, min_tracking_confidence=0.5) as pose:\n",
    "    while cap.isOpened():\n",
    "        ret, frame = cap.read()\n",
    "\n",
    "        # Recolor Image to RGB\n",
    "        image = cv2.cvtColor(frame, cv2.COLOR_BGR2RGB)\n",
    "        image.flags.writeable = False\n",
    "\n",
    "        # Make detection\n",
    "        results = pose.process(image)\n",
    "\n",
    "        #Recolor back to BGR\n",
    "        image.flags.writeable = True\n",
    "        image = cv2.cvtColor(image, cv2.COLOR_RGB2BGR)\n",
    "        \n",
    "        #Extract landmarks\n",
    "        try:\n",
    "            landmarks = results.pose_landmarks.landmark\n",
    "\n",
    "            #Get Coordinates\n",
    "            l_shoulder = [landmarks[mp_pose.PoseLandmark.LEFT_SHOULDER.value].x, landmarks[mp_pose.PoseLandmark.LEFT_SHOULDER.value].y]\n",
    "            l_elbow = [landmarks[mp_pose.PoseLandmark.LEFT_ELBOW.value].x, landmarks[mp_pose.PoseLandmark.LEFT_ELBOW.value].y]\n",
    "            l_wrist = [landmarks[mp_pose.PoseLandmark.LEFT_WRIST.value].x, landmarks[mp_pose.PoseLandmark.LEFT_WRIST].y]\n",
    "\n",
    "            r_shoulder = [landmarks[mp_pose.PoseLandmark.RIGHT_SHOULDER.value].x, landmarks[mp_pose.PoseLandmark.RIGHT_SHOULDER.value].y]\n",
    "            r_elbow = [landmarks[mp_pose.PoseLandmark.RIGHT_ELBOW.value].x, landmarks[mp_pose.PoseLandmark.RIGHT_ELBOW.value].y]\n",
    "            r_wrist = [landmarks[mp_pose.PoseLandmark.RIGHT_WRIST.value].x, landmarks[mp_pose.PoseLandmark.RIGHT_WRIST].y]\n",
    "            #Calculate angle\n",
    "            l_angle = calculate_angle(l_shoulder, l_elbow, l_wrist)\n",
    "            r_angle = calculate_angle(r_shoulder, r_elbow, r_wrist)\n",
    "\n",
    "            #Visualize angle\n",
    "            cv2.putText(image, str(l_angle),\n",
    "                           tuple(np.multiply(l_elbow, [1920,1080]).astype(int)),\n",
    "                           cv2.FONT_HERSHEY_SIMPLEX, 1, (255,255,255), 2, cv2.LINE_AA)\n",
    "            cv2.putText(image, str(r_angle),\n",
    "                           tuple(np.multiply(r_elbow, [1920,1080]).astype(int)),\n",
    "                           cv2.FONT_HERSHEY_SIMPLEX, 1, (255,255,255), 2, cv2.LINE_AA)\n",
    "                       \n",
    "        except:\n",
    "            pass\n",
    "            \n",
    "        # Render detections\n",
    "        mp_drawing.draw_landmarks(image, results.pose_landmarks, mp_pose.POSE_CONNECTIONS,\n",
    "                                 mp_drawing.DrawingSpec(color=(245,117,66), thickness=2, circle_radius=2),\n",
    "                                 mp_drawing.DrawingSpec(color=(25,66,230), thickness=2, circle_radius=2))\n",
    "        cv2.imshow('Mediapipe Feed', image)\n",
    "        \n",
    "        if cv2.waitKey(10) & 0xFF == ord('q'):\n",
    "            break\n",
    "    \n",
    "    cap.release()\n",
    "    cv2.destroyAllWindows()"
   ]
  },
  {
   "cell_type": "markdown",
   "id": "2dfdbf42-f5c6-4718-b292-c9a3c704ab1f",
   "metadata": {},
   "source": [
    "## 4. Curl Counter"
   ]
  },
  {
   "cell_type": "code",
   "execution_count": 13,
   "id": "9310e57d-a874-4fd3-aeb7-8de0f10da09b",
   "metadata": {},
   "outputs": [
    {
     "name": "stderr",
     "output_type": "stream",
     "text": [
      "I0000 00:00:1752457653.163962 1356234 gl_context.cc:369] GL version: 2.1 (2.1 Metal - 89.4), renderer: Apple M4 Max\n",
      "W0000 00:00:1752457653.203622 1363323 inference_feedback_manager.cc:114] Feedback manager requires a model with a single signature inference. Disabling support for feedback tensors.\n",
      "W0000 00:00:1752457653.211812 1363323 inference_feedback_manager.cc:114] Feedback manager requires a model with a single signature inference. Disabling support for feedback tensors.\n"
     ]
    }
   ],
   "source": [
    "cap = cv2.VideoCapture(1)\n",
    "\n",
    "#curl counter variables\n",
    "counter=0\n",
    "stage = None\n",
    "\n",
    "\n",
    "#Setup mediapipe instance\n",
    "with mp_pose.Pose(min_detection_confidence =0.5, min_tracking_confidence=0.5) as pose:\n",
    "    while cap.isOpened():\n",
    "        ret, frame = cap.read()\n",
    "\n",
    "        # Recolor Image to RGB\n",
    "        image = cv2.cvtColor(frame, cv2.COLOR_BGR2RGB)\n",
    "        image.flags.writeable = False\n",
    "\n",
    "        # Make detection\n",
    "        results = pose.process(image)\n",
    "\n",
    "        #Recolor back to BGR\n",
    "        image.flags.writeable = True\n",
    "        image = cv2.cvtColor(image, cv2.COLOR_RGB2BGR)\n",
    "        \n",
    "        #Extract landmarks\n",
    "        try:\n",
    "            landmarks = results.pose_landmarks.landmark\n",
    "\n",
    "            #Get Coordinates\n",
    "            l_shoulder = [landmarks[mp_pose.PoseLandmark.LEFT_SHOULDER.value].x, landmarks[mp_pose.PoseLandmark.LEFT_SHOULDER.value].y]\n",
    "            l_elbow = [landmarks[mp_pose.PoseLandmark.LEFT_ELBOW.value].x, landmarks[mp_pose.PoseLandmark.LEFT_ELBOW.value].y]\n",
    "            l_wrist = [landmarks[mp_pose.PoseLandmark.LEFT_WRIST.value].x, landmarks[mp_pose.PoseLandmark.LEFT_WRIST].y]\n",
    "\n",
    "            r_shoulder = [landmarks[mp_pose.PoseLandmark.RIGHT_SHOULDER.value].x, landmarks[mp_pose.PoseLandmark.RIGHT_SHOULDER.value].y]\n",
    "            r_elbow = [landmarks[mp_pose.PoseLandmark.RIGHT_ELBOW.value].x, landmarks[mp_pose.PoseLandmark.RIGHT_ELBOW.value].y]\n",
    "            r_wrist = [landmarks[mp_pose.PoseLandmark.RIGHT_WRIST.value].x, landmarks[mp_pose.PoseLandmark.RIGHT_WRIST].y]\n",
    "            #Calculate angle\n",
    "            l_angle = calculate_angle(l_shoulder, l_elbow, l_wrist)\n",
    "            r_angle = calculate_angle(r_shoulder, r_elbow, r_wrist)\n",
    "\n",
    "            #Visualize angle\n",
    "            cv2.putText(image, str(l_angle),\n",
    "                           tuple(np.multiply(l_elbow, [1920,1080]).astype(int)),\n",
    "                           cv2.FONT_HERSHEY_SIMPLEX, 1, (255,255,255), 2, cv2.LINE_AA)\n",
    "            cv2.putText(image, str(r_angle),\n",
    "                           tuple(np.multiply(r_elbow, [1920,1080]).astype(int)),\n",
    "                           cv2.FONT_HERSHEY_SIMPLEX, 1, (255,255,255), 2, cv2.LINE_AA)\n",
    "\n",
    "\n",
    "            #Curl Counter logic\n",
    "            if l_angle>160 and r_angle>160:\n",
    "                stage='down'\n",
    "            if l_angle<30 and r_angle<30 and stage=='down':\n",
    "                stage='up'\n",
    "                counter+=1\n",
    "                       \n",
    "        except:\n",
    "            pass\n",
    "\n",
    "        box_color = (70, 130, 180)  \n",
    "\n",
    "      \n",
    "        cv2.rectangle(image, (10, 10), (300, 120), box_color, -1)\n",
    "        \n",
    "        # Draw REPS Label\n",
    "        cv2.putText(image, 'REPS', \n",
    "                    (20, 50),  # Top-left padding\n",
    "                    cv2.FONT_HERSHEY_SIMPLEX, \n",
    "                    0.8, \n",
    "                    (0, 0, 0), 2, cv2.LINE_AA)\n",
    "        \n",
    "        # Draw Counter Value\n",
    "        cv2.putText(image, str(counter), \n",
    "                    (20, 100),  \n",
    "                    cv2.FONT_HERSHEY_SIMPLEX, \n",
    "                    2, \n",
    "                    (255, 255, 255), 4, cv2.LINE_AA)\n",
    "\n",
    "        #Render Detections\n",
    "        mp_drawing.draw_landmarks(image, results.pose_landmarks, mp_pose.POSE_CONNECTIONS,\n",
    "                                     mp_drawing.DrawingSpec(color=(245,117,66), thickness=2, circle_radius=2),\n",
    "                                     mp_drawing.DrawingSpec(color=(25,66,230), thickness=2, circle_radius=2))\n",
    "        cv2.imshow('Mediapipe Feed', image)\n",
    "            \n",
    "        if cv2.waitKey(10) & 0xFF == ord('q'):\n",
    "            break\n",
    "\n",
    "           \n",
    "            \n",
    "cap.release()\n",
    "cv2.destroyAllWindows()"
   ]
  },
  {
   "cell_type": "code",
   "execution_count": null,
   "id": "8117670d-147c-4a3e-b8f0-bf36ebf8a064",
   "metadata": {},
   "outputs": [],
   "source": []
  }
 ],
 "metadata": {
  "kernelspec": {
   "display_name": "Python 3 (ipykernel)",
   "language": "python",
   "name": "python3"
  },
  "language_info": {
   "codemirror_mode": {
    "name": "ipython",
    "version": 3
   },
   "file_extension": ".py",
   "mimetype": "text/x-python",
   "name": "python",
   "nbconvert_exporter": "python",
   "pygments_lexer": "ipython3",
   "version": "3.11.8"
  }
 },
 "nbformat": 4,
 "nbformat_minor": 5
}
